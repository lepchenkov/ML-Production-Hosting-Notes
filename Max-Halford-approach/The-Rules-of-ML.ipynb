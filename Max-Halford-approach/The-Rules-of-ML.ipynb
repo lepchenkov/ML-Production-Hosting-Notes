{
 "cells": [
  {
   "cell_type": "markdown",
   "metadata": {},
   "source": [
    "# The Rules of ML by Martin Zinkevich\n",
    "\n",
    "https://developers.google.com/machine-learning/guides/rules-of-ml/\n",
    "\n",
    "http://www.unofficialgoogledatascience.com/2016/10/practical-advice-for-analysis-of-large.html"
   ]
  },
  {
   "cell_type": "markdown",
   "metadata": {},
   "source": [
    "1. Don't be arfraid to launch a product without ML (start with basic heuristics). Heuristic is a quick solution to the problem. \n",
    "2. First, design and implement metrics. \n",
    "3. Choose ML model over the complex heuristics\n",
    "4. Focus on infrastructure and make the first model as simple as possible\n",
    "5. Test the infrastructure independently of ML\n",
    "6. Be careful when copying pipelines (pipelines usually strondly depend on the specific task\n",
    "7. Turn heuristics into features or handle them externally. Even if ML is already implemented, heuristics can give a lift. \n",
    "8. Know the freshment requirement of your system. "
   ]
  },
  {
   "cell_type": "code",
   "execution_count": null,
   "metadata": {},
   "outputs": [],
   "source": []
  }
 ],
 "metadata": {
  "kernelspec": {
   "display_name": "Python 3",
   "language": "python",
   "name": "python3"
  },
  "language_info": {
   "codemirror_mode": {
    "name": "ipython",
    "version": 3
   },
   "file_extension": ".py",
   "mimetype": "text/x-python",
   "name": "python",
   "nbconvert_exporter": "python",
   "pygments_lexer": "ipython3",
   "version": "3.7.4"
  }
 },
 "nbformat": 4,
 "nbformat_minor": 2
}
